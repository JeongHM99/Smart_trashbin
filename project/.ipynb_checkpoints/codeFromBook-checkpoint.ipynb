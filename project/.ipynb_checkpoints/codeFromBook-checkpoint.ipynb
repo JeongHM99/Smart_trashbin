{
 "cells": [
  {
   "cell_type": "code",
   "execution_count": 4,
   "id": "8ee1c5f4",
   "metadata": {},
   "outputs": [
    {
     "name": "stderr",
     "output_type": "stream",
     "text": [
      "ERROR: Could not find a version that satisfies the requirement opencv (from versions: none)\n",
      "ERROR: No matching distribution found for opencv\n"
     ]
    }
   ],
   "source": [
    "!pip install opencv"
   ]
  },
  {
   "cell_type": "code",
   "execution_count": 7,
   "id": "eb396167",
   "metadata": {},
   "outputs": [],
   "source": [
    "import numpy as np\n",
    "import cv2\n",
    "import serial\n",
    "\n",
    "classes = []\n",
    "f=open('obj.names.txt', 'r')\n",
    "classes=[line.strip() for line in f.readlines()]\n",
    "colors=np.random.uniform(0,255,size=(len(classes),3))\n",
    "\n",
    "yolo_model=cv2.dnn.readNet('yolov4-custom_last.weights','yolov4-custom.cfg')\n",
    "layer_names=yolo_model.getLayerNames()\n",
    "out_layers=[layer_names[i-1] for i in yolo_model.getUnconnectedOutLayers()]\n",
    "\n",
    "ard = serial.Serial('COM3', 9600)\n",
    "\n",
    "def process_video():\n",
    "    video=cv2.VideoCapture(0)\n",
    "    while video.isOpened():\n",
    "        success,img=video.read()\n",
    "        if success:\n",
    "            height,width,channels=img.shape\n",
    "            blob=cv2.dnn.blobFromImage(img,1.0/256,(448,448),(0,0,0),swapRB=True,crop=False)\n",
    "            \n",
    "            yolo_model.setInput(blob)\n",
    "            output3=yolo_model.forward(out_layers)\n",
    "            \n",
    "            class_ids,confidences,boxes=[],[],[]\n",
    "            for output in output3:\n",
    "                for vec85 in output:\n",
    "                    scores=vec85[5:]\n",
    "                    class_id=np.argmax(scores)\n",
    "                    confidence=scores[class_id]\n",
    "                    if confidence>0.5:\n",
    "                        centerx,centery=int(vec85[0]*width),int(vec85[1]*height)\n",
    "                        w,h=int(vec85[2]*width),int(vec85[3]*height)\n",
    "                        x,y=int(centerx-w/2),int(centery-h/2)\n",
    "                        boxes.append([x,y,w,h])\n",
    "                        confidences.append(float(confidence))\n",
    "                        class_ids.append(class_id)\n",
    "                        \n",
    "            indexes=cv2.dnn.NMSBoxes(boxes,confidences,0.5,0.4)\n",
    "                        \n",
    "            for i in range(len(boxes)):\n",
    "                if i in indexes:\n",
    "                    x,y,w,h=boxes[i]\n",
    "                    text=str(classes[class_ids[i]])+'%.3f'%confidences[i]\n",
    "                    cv2.rectangle(img,(x,y),(x+w,y+h),colors[class_ids[i]],2)\n",
    "                    cv2.putText(img,text,(x,y+30),cv2.FONT_HERSHEY_PLAIN,2,colors[class_ids[i]],2)\n",
    "                        \n",
    "            cv2.imshow('Object detection',img)\n",
    "            \n",
    "            # 0 = BIODEGRADABLE, 1 = CARDBOARD, 2 = GLASS, 3 = METAL, 4 = PAPER, 5 = PLASTIC\n",
    "            \n",
    "            if 0 in class_ids:\n",
    "                ard.write(b'0')\n",
    "            elif 1 in class_ids:\n",
    "                ard.write(b'1')\n",
    "            elif 2 in class_ids:\n",
    "                ard.write(b'2')\n",
    "            elif 3 in class_ids:\n",
    "                ard.write(b'3')\n",
    "            elif 4 in class_ids:\n",
    "                ard.write(b'4')\n",
    "            elif 5 in class_ids:\n",
    "                ard.write(b'5')\n",
    "            else:\n",
    "                ard.write(b'6')\n",
    "                            \n",
    "        key=cv2.waitKey(1) & 0xFF\n",
    "        if key==27:break\n",
    "                        \n",
    "    video.release()\n",
    "    cv2.destroyAllWindows()\n",
    "            \n",
    "process_video()"
   ]
  },
  {
   "cell_type": "code",
   "execution_count": null,
   "id": "d1d5b928",
   "metadata": {},
   "outputs": [],
   "source": []
  }
 ],
 "metadata": {
  "kernelspec": {
   "display_name": "Python 3 (ipykernel)",
   "language": "python",
   "name": "python3"
  },
  "language_info": {
   "codemirror_mode": {
    "name": "ipython",
    "version": 3
   },
   "file_extension": ".py",
   "mimetype": "text/x-python",
   "name": "python",
   "nbconvert_exporter": "python",
   "pygments_lexer": "ipython3",
   "version": "3.9.13"
  }
 },
 "nbformat": 4,
 "nbformat_minor": 5
}
